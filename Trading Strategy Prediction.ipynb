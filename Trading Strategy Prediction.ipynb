{
 "cells": [
  {
   "cell_type": "code",
   "execution_count": 1,
   "id": "a4ad3ccf",
   "metadata": {},
   "outputs": [
    {
     "name": "stdout",
     "output_type": "stream",
     "text": [
      "Requirement already satisfied: xgboost==0.90 in c:\\programdata\\anaconda3\\lib\\site-packages (0.90)\n",
      "Requirement already satisfied: numpy in c:\\programdata\\anaconda3\\lib\\site-packages (from xgboost==0.90) (1.20.1)\n",
      "Requirement already satisfied: scipy in c:\\programdata\\anaconda3\\lib\\site-packages (from xgboost==0.90) (1.6.2)\n",
      "Note: you may need to restart the kernel to use updated packages.\n"
     ]
    }
   ],
   "source": [
    "pip install xgboost==0.90"
   ]
  },
  {
   "cell_type": "code",
   "execution_count": 2,
   "id": "655dc33b",
   "metadata": {},
   "outputs": [],
   "source": [
    "from numpy import loadtxt\n",
    "import pandas as pd\n",
    "import matplotlib as plt\n",
    "import requests,json\n",
    "from xgboost import XGBClassifier\n",
    "from sklearn.model_selection import train_test_split\n",
    "from sklearn.metrics import accuracy_score"
   ]
  },
  {
   "cell_type": "code",
   "execution_count": 4,
   "id": "1d8b42f6",
   "metadata": {},
   "outputs": [],
   "source": [
    "data_read = pd.read_csv('XBTUSD-1h-data.csv')\n",
    "dataset = pd.DataFrame(data_read)"
   ]
  },
  {
   "cell_type": "code",
   "execution_count": 7,
   "id": "4befaf04",
   "metadata": {},
   "outputs": [],
   "source": [
    "#data.tail()"
   ]
  },
  {
   "cell_type": "code",
   "execution_count": 53,
   "id": "2c4bce2b",
   "metadata": {},
   "outputs": [],
   "source": [
    "Y = []\n",
    "for i in range(0, len(dataset['timestamp'])-1): \n",
    "    if dataset['close'][i]>dataset['open'][i]:\n",
    "        Y.append(1)\n",
    "    else: Y.append(0)\n",
    "Y.append(1)"
   ]
  },
  {
   "cell_type": "code",
   "execution_count": 54,
   "id": "c0805dbe",
   "metadata": {},
   "outputs": [
    {
     "name": "stdout",
     "output_type": "stream",
     "text": [
      "29460\n"
     ]
    }
   ],
   "source": [
    "t = 0\n",
    "for i in range(len(Y)):\n",
    "    if Y[i] != 0:\n",
    "        t+=1\n",
    "print(t)"
   ]
  },
  {
   "cell_type": "code",
   "execution_count": 55,
   "id": "1d8b729c",
   "metadata": {},
   "outputs": [
    {
     "name": "stdout",
     "output_type": "stream",
     "text": [
      "28454\n"
     ]
    }
   ],
   "source": [
    "print(len(Y)-t)"
   ]
  },
  {
   "cell_type": "code",
   "execution_count": 56,
   "id": "4717a2ed",
   "metadata": {},
   "outputs": [],
   "source": [
    "# split data into X and y\n",
    "train_len = int(0.8*len(dataset['timestamp']))\n",
    "X_train = dataset[:train_len]\n",
    "Y_train = Y[:train_len]\n",
    "X_test = dataset[train_len:]\n",
    "Y_test = Y[train_len:]"
   ]
  },
  {
   "cell_type": "code",
   "execution_count": 57,
   "id": "cfc7a2d9",
   "metadata": {},
   "outputs": [
    {
     "name": "stdout",
     "output_type": "stream",
     "text": [
      "57914 57914\n"
     ]
    }
   ],
   "source": [
    "print(len(dataset), len(Y))"
   ]
  },
  {
   "cell_type": "code",
   "execution_count": 58,
   "id": "731d7b97",
   "metadata": {},
   "outputs": [
    {
     "name": "stdout",
     "output_type": "stream",
     "text": [
      "11583 11583\n"
     ]
    }
   ],
   "source": [
    "print(len(X_test), len(Y_test))"
   ]
  },
  {
   "cell_type": "code",
   "execution_count": 59,
   "id": "53a8b48a",
   "metadata": {},
   "outputs": [],
   "source": [
    "X1_train = X_train.drop(labels=['timestamp', 'symbol', 'trades', 'volume', 'vwap', 'lastSize', 'turnover', 'homeNotional', 'foreignNotional'], axis=1)\n",
    "X1_test = X_test.drop(labels=['timestamp', 'symbol', 'trades', 'volume', 'vwap', 'lastSize', 'turnover', 'homeNotional', 'foreignNotional'], axis=1)"
   ]
  },
  {
   "cell_type": "code",
   "execution_count": 60,
   "id": "59b18894",
   "metadata": {},
   "outputs": [],
   "source": [
    "for label in ['open', 'close', 'high', 'low']:\n",
    "    X1_train[label] = pd.to_numeric(X1_train[label])\n",
    "for label in ['open', 'close', 'high', 'low']:\n",
    "    X1_test[label] = pd.to_numeric(X1_test[label])"
   ]
  },
  {
   "cell_type": "code",
   "execution_count": 61,
   "id": "4bcaa685",
   "metadata": {},
   "outputs": [],
   "source": [
    "normalized_X1_train=(X1_train-X1_train.min())/X1_train.std()\n",
    "normalized_X1_test=(X1_test-X1_test.min())/X1_test.std()"
   ]
  },
  {
   "cell_type": "code",
   "execution_count": 62,
   "id": "c830fec2",
   "metadata": {},
   "outputs": [
    {
     "name": "stdout",
     "output_type": "stream",
     "text": [
      "Accuracy: 51.46%\n"
     ]
    }
   ],
   "source": [
    "# split data into train and test sets\n",
    "#seed = 7\n",
    "#test_size = 0.33\n",
    "#X_train, X_test = train_test_split(normalized_X1, test_size=test_size, random_state=seed)\n",
    "#y_train, y_test = train_test_split(normalized_Y1, test_size=test_size, random_state=seed)\n",
    "# fit model no training data\n",
    "model = XGBClassifier()\n",
    "model.fit(X1_train, Y_train)\n",
    "# make predictions for test data\n",
    "y_pred = model.predict(X1_test)\n",
    "predictions = [round(value) for value in y_pred]\n",
    "# evaluate predictions\n",
    "accuracy = accuracy_score(Y_test, y_pred)\n",
    "print(\"Accuracy: %.2f%%\" % (accuracy * 100.0))"
   ]
  },
  {
   "cell_type": "code",
   "execution_count": 19,
   "id": "5517e266",
   "metadata": {},
   "outputs": [
    {
     "name": "stdout",
     "output_type": "stream",
     "text": [
      "11583\n"
     ]
    }
   ],
   "source": [
    "print(len(y_pred))"
   ]
  },
  {
   "cell_type": "code",
   "execution_count": 34,
   "id": "986c19a2",
   "metadata": {},
   "outputs": [
    {
     "name": "stdout",
     "output_type": "stream",
     "text": [
      "2\n"
     ]
    }
   ],
   "source": [
    "t = 0\n",
    "for i in range(len(Y_train)):\n",
    "    if Y_train[i] != 0:\n",
    "        t+=1\n",
    "print(t)"
   ]
  },
  {
   "cell_type": "code",
   "execution_count": 35,
   "id": "845b7201",
   "metadata": {},
   "outputs": [
    {
     "name": "stdout",
     "output_type": "stream",
     "text": [
      "0\n"
     ]
    }
   ],
   "source": [
    "print(max(y_pred))"
   ]
  },
  {
   "cell_type": "code",
   "execution_count": 23,
   "id": "d8d408f9",
   "metadata": {},
   "outputs": [
    {
     "name": "stdout",
     "output_type": "stream",
     "text": [
      "11583\n"
     ]
    }
   ],
   "source": [
    "print(len(Y_test))"
   ]
  },
  {
   "cell_type": "code",
   "execution_count": 15,
   "id": "700f7fe4",
   "metadata": {},
   "outputs": [],
   "source": [
    "from sklearn.metrics import f1_score as f1"
   ]
  },
  {
   "cell_type": "code",
   "execution_count": 63,
   "id": "050e774a",
   "metadata": {},
   "outputs": [
    {
     "name": "stdout",
     "output_type": "stream",
     "text": [
      "0.6706502636203866\n"
     ]
    }
   ],
   "source": [
    "print(f1(y_pred, Y_test))"
   ]
  },
  {
   "cell_type": "code",
   "execution_count": 65,
   "id": "63942a7a",
   "metadata": {},
   "outputs": [
    {
     "name": "stdout",
     "output_type": "stream",
     "text": [
      "[[ 237 5510]\n",
      " [ 112 5724]]\n",
      "              precision    recall  f1-score   support\n",
      "\n",
      "           0       0.68      0.04      0.08      5747\n",
      "           1       0.51      0.98      0.67      5836\n",
      "\n",
      "    accuracy                           0.51     11583\n",
      "   macro avg       0.59      0.51      0.37     11583\n",
      "weighted avg       0.59      0.51      0.38     11583\n",
      "\n"
     ]
    }
   ],
   "source": [
    "from sklearn.metrics import confusion_matrix, accuracy_score, classification_report\n",
    "#Optimizer\n",
    "from sklearn.model_selection import GridSearchCV,cross_val_score\n",
    "from sklearn.metrics import make_scorer\n",
    "#evaluation metrics\n",
    "from sklearn.metrics import r2_score,mean_absolute_error,mean_squared_error\n",
    "\n",
    "xgb_model = model.fit(X1_train, Y_train)\n",
    "xgb_prediction = model.predict(X1_test)\n",
    "\n",
    "print(confusion_matrix(Y_test, xgb_prediction))\n",
    "print(classification_report(Y_test, xgb_prediction))"
   ]
  }
 ],
 "metadata": {
  "kernelspec": {
   "display_name": "Python 3",
   "language": "python",
   "name": "python3"
  },
  "language_info": {
   "codemirror_mode": {
    "name": "ipython",
    "version": 3
   },
   "file_extension": ".py",
   "mimetype": "text/x-python",
   "name": "python",
   "nbconvert_exporter": "python",
   "pygments_lexer": "ipython3",
   "version": "3.8.8"
  }
 },
 "nbformat": 4,
 "nbformat_minor": 5
}

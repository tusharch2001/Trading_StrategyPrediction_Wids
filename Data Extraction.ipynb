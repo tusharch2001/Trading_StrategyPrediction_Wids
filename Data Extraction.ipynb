{
 "cells": [
  {
   "cell_type": "code",
   "execution_count": 1,
   "id": "3d4afe7b",
   "metadata": {},
   "outputs": [],
   "source": [
    "import numpy as np\n",
    "import pandas as pd\n",
    "from bitmex import bitmex\n",
    "import math\n",
    "import os.path\n",
    "import time\n",
    "from datetime import timedelta, datetime\n",
    "from dateutil import parser\n",
    "from tqdm import tqdm_notebook"
   ]
  },
  {
   "cell_type": "code",
   "execution_count": 11,
   "id": "80a9ad84",
   "metadata": {},
   "outputs": [],
   "source": [
    "key = '0grAhAHu6EJZc-2YScrA7lsi'\n",
    "secret = 'X_EgOfuGip7Vg9P6w2LRm0D1Gs9cAa867AZFlRlB_pRs1A5k'"
   ]
  },
  {
   "cell_type": "code",
   "execution_count": 12,
   "id": "38bc7dc6",
   "metadata": {},
   "outputs": [],
   "source": [
    "symbol = \"XBTUSD\"\n",
    "kline_size = \"1h\""
   ]
  },
  {
   "cell_type": "code",
   "execution_count": 13,
   "id": "45af3ef5",
   "metadata": {},
   "outputs": [],
   "source": [
    "bin_length = {\"1m\": 1, \"15m\": 15, \"30m\": 30, \"1h\": 60}\n",
    "batch_size = 750\n",
    "client = bitmex(test=False, api_key=key, api_secret=secret)"
   ]
  },
  {
   "cell_type": "code",
   "execution_count": 14,
   "id": "5c712165",
   "metadata": {},
   "outputs": [],
   "source": [
    "def update(symbol, kline_size, data):\n",
    "    if len(data)!=0:  old = parser.parse(data[\"timestamp\"].iloc[-1])\n",
    "    old = client.Trade.Trade_getBucketed(symbol=symbol, binSize=kline_size, count=1, reverse=False).result()[0][0]['timestamp']\n",
    "    new = client.Trade.Trade_getBucketed(symbol=symbol, binSize=kline_size, count=1, reverse=True).result()[0][0]['timestamp']\n",
    "    return old, new"
   ]
  },
  {
   "cell_type": "code",
   "execution_count": 17,
   "id": "31acda9f",
   "metadata": {},
   "outputs": [],
   "source": [
    "def fetch(symbol, kline_size, save = False):\n",
    "    filename = '%s-%s-data.csv' % (symbol, kline_size)\n",
    "    if os.path.isfile(filename): data1 = pd.read_csv(filename)\n",
    "    else: data1 = pd.DataFrame()\n",
    "    oldest_point, newest_point = update(symbol, kline_size, data1)\n",
    "    delta_min = (newest_point - oldest_point).total_seconds()/60\n",
    "    available_data = math.ceil(delta_min/bin_length[kline_size])\n",
    "    rounds = math.ceil(available_data / batch_size)\n",
    "    if rounds>0:\n",
    "        print('Downloading %d minutes of new data available for %s, i.e. %d instances of %s data in %d rounds.' % (delta_min, symbol, available_data, kline_size, rounds))\n",
    "        for round_num in tqdm.notebook.tqdm(range(rounds)):\n",
    "            time.sleep(1)\n",
    "            new_time = (oldest_point + timedelta(minutes = round_num * batch_size * bin_length[kline_size]))\n",
    "            data = client.Trade.Trade_getBucketed(symbol=symbol, binSize=kline_size, count=batch_size, startTime = new_time).result()[0]\n",
    "            temp_df = pd.DataFrame(data)\n",
    "            data1 = data1.append(temp_df)\n",
    "    data1.set_index('timestamp', inplace=True)\n",
    "    if save and rounds > 0: data1.to_csv(filename)\n",
    "    print('Done')\n",
    "    return data1"
   ]
  },
  {
   "cell_type": "code",
   "execution_count": 20,
   "id": "531d47d9",
   "metadata": {},
   "outputs": [],
   "source": [
    "#data_final = fetch(symbol, kline_size, save=True)"
   ]
  }
 ],
 "metadata": {
  "kernelspec": {
   "display_name": "Python 3",
   "language": "python",
   "name": "python3"
  },
  "language_info": {
   "codemirror_mode": {
    "name": "ipython",
    "version": 3
   },
   "file_extension": ".py",
   "mimetype": "text/x-python",
   "name": "python",
   "nbconvert_exporter": "python",
   "pygments_lexer": "ipython3",
   "version": "3.8.8"
  }
 },
 "nbformat": 4,
 "nbformat_minor": 5
}

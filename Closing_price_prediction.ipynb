{
 "cells": [
  {
   "cell_type": "code",
   "execution_count": 2,
   "metadata": {
    "colab": {
     "base_uri": "https://localhost:8080/"
    },
    "id": "oMChDDNZsumG",
    "outputId": "e7f62f4a-e62a-49a0-963d-d8a332984a58"
   },
   "outputs": [
    {
     "name": "stdout",
     "output_type": "stream",
     "text": [
      "timestamp\n",
      "2015-09-25      235.780000\n",
      "2015-09-26      234.295000\n",
      "2015-09-27      233.854167\n",
      "2015-09-28      237.647826\n",
      "2015-09-29      238.405000\n",
      "                  ...     \n",
      "2022-04-30    38504.229167\n",
      "2022-05-01    38031.145833\n",
      "2022-05-02    38653.750000\n",
      "2022-05-03    38271.020833\n",
      "2022-05-04    38397.833333\n",
      "Name: close, Length: 2414, dtype: float64\n"
     ]
    }
   ],
   "source": [
    "import pandas as pd\n",
    " \n",
    "# creating a data frame\n",
    "df1 = pd.read_csv(\"XBTUSD-1h-data.csv\")\n",
    "df = pd.DataFrame(df1)\n",
    "    \n",
    "df['close'] = pd.to_numeric(df['close'])\n",
    "df['timestamp'] = pd.to_datetime(df['timestamp']).dt.date\n",
    "\n",
    "print(df.groupby('timestamp').mean()['close'])\n",
    "    "
   ]
  },
  {
   "cell_type": "code",
   "execution_count": 3,
   "metadata": {
    "id": "a0dnHT-ctVQX"
   },
   "outputs": [],
   "source": [
    "def price_matrix_creator(data, seq_len=30):\n",
    "    '''\n",
    "    It converts the series into a nested list where every item of the list contains historic prices of 30 days\n",
    "    '''\n",
    "    price_matrix = []\n",
    "    for index in range(len(data)-seq_len+1):\n",
    "        price_matrix.append(data[index:index+seq_len])\n",
    "    return price_matrix\n",
    "\n",
    "def normalize_windows(window_data):\n",
    "    '''\n",
    "    It normalizes each value to reflect the percentage changes from starting point\n",
    "    '''\n",
    "    normalised_data = []\n",
    "    for window in window_data:\n",
    "        normalised_window = [((float(p) / float(window[0])) - 1) for p in window]\n",
    "        normalised_data.append(normalised_window)\n",
    "    return normalised_data\n",
    "\n",
    "def train_test_split_(price_matrix, train_size=0.9, shuffle=False, return_row=True):\n",
    "    '''\n",
    "    It makes a custom train test split where the last part is kept as the training set.\n",
    "    '''\n",
    "    price_matrix = np.array(price_matrix)\n",
    "    #print(price_matrix.shape)\n",
    "    row = int(round(train_size * len(price_matrix)))\n",
    "    train = price_matrix[:row, :]\n",
    "    if shuffle==True:\n",
    "        np.random.shuffle(train)\n",
    "    X_train, y_train = train[:row,:-1], train[:row,-1]\n",
    "    X_test, y_test = price_matrix[row:,:-1], price_matrix[row:,-1]\n",
    "    X_train = np.reshape(X_train, (X_train.shape[0], X_train.shape[1], 1))\n",
    "    X_test = np.reshape(X_test, (X_test.shape[0], X_test.shape[1], 1))\n",
    "    if return_row:\n",
    "        return row, X_train, y_train, X_test, y_test\n",
    "    else:\n",
    "        X_train, y_train, X_test, y_test"
   ]
  },
  {
   "cell_type": "code",
   "execution_count": null,
   "metadata": {
    "id": "J2fcL5kTtey8"
   },
   "outputs": [],
   "source": [
    "\n",
    "from keras.models import Sequential\n",
    "from keras.layers import LSTM, Dense, Activation\n",
    "import time\n",
    "# LSTM Model parameters, I chose\n",
    "batch_size = 2            # Batch size (you may try different values)\n",
    "epochs = 15               # Epoch (you may try different values)\n",
    "seq_len = 30            # 30 sequence data (Representing the last 30 days)\n",
    "loss='mean_squared_error' # Since the metric is MSE/RMSE\n",
    "optimizer = 'rmsprop'     # Recommended optimizer for RNN\n",
    "activation = 'linear'     # Linear activation\n",
    "input_shape=(None,1)      # Input dimension\n",
    "output_dim = 30           # Output dimension"
   ]
  },
  {
   "cell_type": "code",
   "execution_count": null,
   "metadata": {
    "id": "0rn4hAvmti4Q"
   },
   "outputs": [],
   "source": [
    "model = Sequential()\n",
    "model.add(LSTM(units=output_dim, return_sequences=True, input_shape=input_shape))\n",
    "model.add(Dense(units=32,activation=activation))\n",
    "model.add(LSTM(units=output_dim, return_sequences=False))\n",
    "model.add(Dense(units=1,activation=activation))\n",
    "model.compile(optimizer=optimizer,loss=loss)"
   ]
  },
  {
   "cell_type": "code",
   "execution_count": null,
   "metadata": {
    "colab": {
     "base_uri": "https://localhost:8080/"
    },
    "id": "foUSXfE_tozU",
    "outputId": "ee4e2f2b-b81f-4a9e-ce3c-06d9919db50d"
   },
   "outputs": [],
   "source": [
    "start_time = time.time()\n",
    "model.fit(x=X_train,\n",
    "          y=y_train,\n",
    "          batch_size=batch_size,\n",
    "          epochs=epochs,\n",
    "          validation_split=0.05)\n",
    "end_time = time.time()\n",
    "processing_time = end_time - start_time"
   ]
  },
  {
   "cell_type": "code",
   "execution_count": null,
   "metadata": {
    "id": "1mGCoTkbvDuY"
   },
   "outputs": [],
   "source": [
    "model.save('coin_predictor.h5')"
   ]
  },
  {
   "cell_type": "code",
   "execution_count": null,
   "metadata": {
    "colab": {
     "base_uri": "https://localhost:8080/"
    },
    "id": "Yg9stOJMvKDx",
    "outputId": "c45b9c42-4f38-47be-c422-a1188de8deea"
   },
   "outputs": [],
   "source": [
    "import requests,json,numpy as np,pandas as pd\n",
    "#We need ser, preds, row\n",
    "ser = hist_price_dl(timeframe='30d')[1:31]\n",
    "price_matrix = price_matrix_creator(ser)\n",
    "X_test = normalize_windows(price_matrix)\n",
    "X_test = np.array(X_test)\n",
    "X_test = np.reshape(X_test, (X_test.shape[0], X_test.shape[1], 1))"
   ]
  },
  {
   "cell_type": "code",
   "execution_count": null,
   "metadata": {
    "id": "crqqJdhLvNoE"
   },
   "outputs": [],
   "source": [
    "\n",
    "from keras.models import load_model\n",
    "model = load_model('coin_predictor.h5')\n",
    "preds = model.predict(X_test, batch_size=2)"
   ]
  },
  {
   "cell_type": "code",
   "execution_count": null,
   "metadata": {
    "id": "pTTXA34GvVX9"
   },
   "outputs": [],
   "source": [
    "def deserializer(preds, data, train_size=0.9, train_phase=False):\n",
    "    '''\n",
    "    Arguments:\n",
    "    preds : Predictions to be converted back to their original values\n",
    "    data : It takes the data into account because the normalization was made based on the full historic data\n",
    "    train_size : Only applicable when used in train_phase\n",
    "    train_phase : When a train-test split is made, this should be set to True so that a cut point (row) is calculated based on the train_size argument, otherwise cut point is set to 0\n",
    "    \n",
    "    Returns:\n",
    "    A list of deserialized prediction values, original true values, and date values for plotting\n",
    "    '''\n",
    "    price_matrix = np.array(price_matrix_creator(ser))\n",
    "    if train_phase:\n",
    "        row = int(round(train_size * len(price_matrix)))\n",
    "    else:\n",
    "        row=0\n",
    "    date = ser.index[row+29:]\n",
    "    date = np.reshape(date, (date.shape[0]))\n",
    "    X_test = price_matrix[row:,:-1]\n",
    "    y_test = price_matrix[row:,-1]\n",
    "    preds_original = []\n",
    "    preds = np.reshape(preds, (preds.shape[0]))\n",
    "    for index in range(0, len(preds)):\n",
    "        pred = (preds[index]+1)* X_test[index][0]\n",
    "        preds_original.append(pred)\n",
    "    preds_original = np.array(preds_original)\n",
    "    if train_phase:\n",
    "        return [date, y_test, preds_original]\n",
    "    else:\n",
    "        import datetime\n",
    "        return [date+datetime.timedelta(days=1),y_test]"
   ]
  },
  {
   "cell_type": "code",
   "execution_count": null,
   "metadata": {
    "colab": {
     "base_uri": "https://localhost:8080/"
    },
    "id": "2jMO7zHMvY57",
    "outputId": "d23b874a-101d-477e-ae54-0b735c7911fa"
   },
   "outputs": [],
   "source": [
    "final_pred = deserializer(preds, ser, train_size=0.9, train_phase=False)\n",
    "final_pred[1][0]"
   ]
  }
 ],
 "metadata": {
  "colab": {
   "name": "Untitled2.ipynb",
   "provenance": [],
   "toc_visible": true
  },
  "kernelspec": {
   "display_name": "Python 3",
   "language": "python",
   "name": "python3"
  },
  "language_info": {
   "codemirror_mode": {
    "name": "ipython",
    "version": 3
   },
   "file_extension": ".py",
   "mimetype": "text/x-python",
   "name": "python",
   "nbconvert_exporter": "python",
   "pygments_lexer": "ipython3",
   "version": "3.8.8"
  }
 },
 "nbformat": 4,
 "nbformat_minor": 1
}
